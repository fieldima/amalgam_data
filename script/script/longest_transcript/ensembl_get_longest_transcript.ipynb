{
 "cells": [
  {
   "cell_type": "code",
   "execution_count": 1,
   "metadata": {},
   "outputs": [],
   "source": [
    "import Bio.SeqIO, sys, pandas, re, argparse, os"
   ]
  },
  {
   "cell_type": "code",
   "execution_count": 2,
   "metadata": {},
   "outputs": [],
   "source": [
    "if sys.argv[1] == \"-f\":\n",
    "    mode = \"debug\"\n",
    "else:\n",
    "    mode = \"batch\"\n",
    "    \n",
    "if mode=='debug':\n",
    "    args = {\n",
    "        'file_cds':'/Users/kf/Dropbox/kfdata/02_Data/my_db/Ensembl/release-91/cds/Sus_scrofa.Sscrofa11.1.cds.all.fa',\n",
    "        'file_id':'/Users/kf/Dropbox/kfdata/02_Data/my_db/Ensembl/release-91/id_mapping/sscrofa_gene_ensembl.tsv',\n",
    "        'file_out':'/Users/kf/Dropbox/kfdata/02_Data/my_db/Ensembl/release-91/cds/Sus_scrofa.Sscrofa11.1.cds.all.out.fa',\n",
    "        'translate_table':1,\n",
    "        'remove_stop':1,\n",
    "    }\n",
    "    os.chdir('/Users/kf/Dropbox/kfdata/02_Data/my_db/Ensembl/release-91/cds')\n",
    "elif mode=='batch':\n",
    "    parser = argparse.ArgumentParser()\n",
    "    parser.add_argument('--file_cds', metavar='PATH', default='', type=str, help='')\n",
    "    parser.add_argument('--file_id', metavar='PATH', default='', type=str, help='')\n",
    "    parser.add_argument('--file_out', metavar='PATH', default='', type=str, help='')\n",
    "    parser.add_argument('--translate_table', metavar='INT', default=0, type=int, help='NCBI translate table number. 0 for no translation.')\n",
    "    parser.add_argument('--remove_stop', metavar='INT', default=0, type=int, help='')\n",
    "    args = parser.parse_args()  \n",
    "    g = dict()\n",
    "    for attr in [a for a in dir(args) if not a.startswith('_')]:\n",
    "        g[attr] = getattr(args, attr)\n",
    "    args = g"
   ]
  },
  {
   "cell_type": "code",
   "execution_count": 3,
   "metadata": {
    "scrolled": true
   },
   "outputs": [
    {
     "name": "stdout",
     "output_type": "stream",
     "text": [
      "# transcripts in input fasta: 45898\n",
      "# genes with multiple transcripts: 10373\n",
      "# genes with multiple longest transcripts: 2793\n",
      "# longest transcripts: 22452\n"
     ]
    }
   ],
   "source": [
    "df_id = pandas.read_csv(args['file_id'], sep='\\t')\n",
    "df_id = df_id.loc[:,['Gene stable ID', 'Transcript stable ID']].drop_duplicates()\n",
    "df_id.columns = ['gene_id','transcript_id']\n",
    "\n",
    "seqids = list()\n",
    "seqlens = list()\n",
    "with open(args['file_cds'], \"r\") as handle:\n",
    "    for record in Bio.SeqIO.parse(handle, \"fasta\"):\n",
    "        seqids.append(record.id)\n",
    "        seqlens.append(len(record.seq))\n",
    "df = pandas.DataFrame([seqids, seqlens]).T\n",
    "print('# transcripts in input fasta:', df.shape[0])\n",
    "\n",
    "df.columns = ['transcript_id','length']\n",
    "df['transcript_id'] = df['transcript_id'].str.replace('\\\\..*', '')\n",
    "df = pandas.merge(df, df_id, on='transcript_id', how='left')\n",
    "print('# genes with multiple transcripts:', df.loc[(df['gene_id'].duplicated()),'gene_id'].drop_duplicates().shape[0])\n",
    "max_length = pandas.DataFrame(df.groupby('gene_id')['length'].max())\n",
    "max_length['gene_id'] = max_length.index\n",
    "df = pandas.merge(max_length, df, how='left')\n",
    "is_surplus_longest = (df['gene_id'].duplicated())\n",
    "print('# genes with multiple longest transcripts:', df.loc[is_surplus_longest,'gene_id'].drop_duplicates().shape[0])\n",
    "df = df.loc[(~is_surplus_longest),:]\n",
    "print('# longest transcripts:', df.shape[0])"
   ]
  },
  {
   "cell_type": "code",
   "execution_count": 4,
   "metadata": {},
   "outputs": [
    {
     "name": "stderr",
     "output_type": "stream",
     "text": [
      "/Users/kf/anaconda/lib/python3.5/site-packages/Bio/Seq.py:2071: BiopythonWarning: Partial codon, len(sequence) not a multiple of three. Explicitly trim the sequence or add trailing N before translation. This may become an error in future.\n",
      "  BiopythonWarning)\n"
     ]
    },
    {
     "name": "stdout",
     "output_type": "stream",
     "text": [
      "sequences were translated with the NCBI codon table: 1\n",
      "summary: sequences not multiple of 3:\n",
      "                  gene_id       transcript_id\n",
      "5      ENSSSCG00000018065  ENSSSCT00000019660\n",
      "9      ENSSSCG00000018069  ENSSSCT00000019664\n",
      "18     ENSSSCG00000018078  ENSSSCT00000019673\n",
      "22     ENSSSCG00000018082  ENSSSCT00000019677\n",
      "24     ENSSSCG00000018084  ENSSSCT00000019679\n",
      "27     ENSSSCG00000018087  ENSSSCT00000019682\n",
      "21655  ENSSSCG00000039519  ENSSSCT00000060924\n",
      "21656  ENSSSCG00000039519  ENSSSCT00000054687\n",
      "32455  ENSSSCG00000034819  ENSSSCT00000015997\n",
      "36201  ENSSSCG00000036912  ENSSSCT00000051332\n",
      "37374  ENSSSCG00000027987  ENSSSCT00000027815\n",
      "43452  ENSSSCG00000024102  ENSSSCT00000023539\n",
      "44219  ENSSSCG00000040048  ENSSSCT00000042721\n",
      "45802  ENSSSCG00000024825  ENSSSCT00000024558\n"
     ]
    }
   ],
   "source": [
    "transcript_ids = df['transcript_id'].tolist()\n",
    "seqs = list()\n",
    "not_multiple_of_3 = list()\n",
    "with open(args['file_cds'], \"r\") as handle:\n",
    "    for record in Bio.SeqIO.parse(handle, \"fasta\"):\n",
    "        transcript_id = re.sub('\\\\..*', '', record.id)\n",
    "        if (transcript_id in transcript_ids):\n",
    "            gene_id = df.loc[df['transcript_id']==transcript_id,'gene_id'].values[0]\n",
    "            record.id = gene_id\n",
    "            record.description = ''\n",
    "            record.name = ''\n",
    "            if args['translate_table']!=0:\n",
    "                is_multiple_of_3 = (len(record.seq)%3==0)\n",
    "                seq_protein = record.seq.translate(table=args['translate_table'])\n",
    "                seq_protein._data = re.sub('\\\\*$', '', seq_protein._data)\n",
    "                if not is_multiple_of_3:\n",
    "                    not_multiple_of_3.append(record.id)\n",
    "                    #print('sequence not multiple of 3:', record.id, seq_protein)\n",
    "                if args['remove_stop']:\n",
    "                    seq_protein._data = seq_protein._data.replace('*', '')\n",
    "                record.seq = seq_protein\n",
    "            seqs.append(record)\n",
    "\n",
    "if args['translate_table']!=0:\n",
    "    print('sequences were translated with the NCBI codon table:', args['translate_table'])\n",
    "    \n",
    "if len(not_multiple_of_3) > 0:\n",
    "    print('summary: sequences not multiple of 3:')\n",
    "    print(df_id.loc[df_id['gene_id'].isin(not_multiple_of_3),:])"
   ]
  },
  {
   "cell_type": "code",
   "execution_count": 5,
   "metadata": {},
   "outputs": [
    {
     "name": "stdout",
     "output_type": "stream",
     "text": [
      "# output sequences: 22452\n",
      "Completed: ensembl_get_longest_transcript\n"
     ]
    }
   ],
   "source": [
    "print('# output sequences:', len(seqs))\n",
    "with open(args['file_out'], \"w\") as output_handle:\n",
    "    Bio.SeqIO.write(seqs, output_handle, \"fasta\")\n",
    "print('Completed: ensembl_get_longest_transcript')"
   ]
  },
  {
   "cell_type": "code",
   "execution_count": null,
   "metadata": {},
   "outputs": [],
   "source": []
  }
 ],
 "metadata": {
  "kernelspec": {
   "display_name": "Python 3",
   "language": "python",
   "name": "python3"
  },
  "language_info": {
   "codemirror_mode": {
    "name": "ipython",
    "version": 3
   },
   "file_extension": ".py",
   "mimetype": "text/x-python",
   "name": "python",
   "nbconvert_exporter": "python",
   "pygments_lexer": "ipython3",
   "version": "3.6.10"
  }
 },
 "nbformat": 4,
 "nbformat_minor": 4
}
