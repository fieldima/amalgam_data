{
 "cells": [
  {
   "cell_type": "code",
   "execution_count": 1,
   "metadata": {},
   "outputs": [],
   "source": [
    "from biomart import BiomartServer"
   ]
  },
  {
   "cell_type": "code",
   "execution_count": 30,
   "metadata": {},
   "outputs": [],
   "source": [
    "dir_out='/Users/kf/Dropbox/kfdata/02_Data/my_db/Ensembl/release-91/id_mapping/'\n",
    "\n",
    "atts = ['external_gene_name','external_gene_source','ensembl_gene_id',\n",
    "        'ensembl_transcript_id','ensembl_peptide_id']\n",
    "\n",
    "server = BiomartServer( \"http://www.ensembl.org/biomart\" )\n",
    "keys = server.datasets.keys()\n",
    "keys = sorted([ k for k in keys if k.endswith('_gene_ensembl') ])\n",
    "for key in keys:\n",
    "    current_db = server.datasets[key]\n",
    "    s = current_db.search({'attributes': atts}, header=1)\n",
    "    with open(dir_out+key+'.tsv', 'w') as f:\n",
    "        f.write(s.text)"
   ]
  },
  {
   "cell_type": "code",
   "execution_count": null,
   "metadata": {},
   "outputs": [],
   "source": []
  }
 ],
 "metadata": {
  "kernelspec": {
   "display_name": "Python 3",
   "language": "python",
   "name": "python3"
  },
  "language_info": {
   "codemirror_mode": {
    "name": "ipython",
    "version": 3
   },
   "file_extension": ".py",
   "mimetype": "text/x-python",
   "name": "python",
   "nbconvert_exporter": "python",
   "pygments_lexer": "ipython3",
   "version": "3.5.4"
  }
 },
 "nbformat": 4,
 "nbformat_minor": 2
}
